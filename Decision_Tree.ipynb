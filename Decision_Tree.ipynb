{
  "nbformat": 4,
  "nbformat_minor": 0,
  "metadata": {
    "colab": {
      "provenance": []
    },
    "kernelspec": {
      "name": "python3",
      "display_name": "Python 3"
    },
    "language_info": {
      "name": "python"
    }
  },
  "cells": [
    {
      "cell_type": "code",
      "execution_count": null,
      "metadata": {
        "id": "Mo6cMph41F3o"
      },
      "outputs": [],
      "source": []
    },
    {
      "cell_type": "markdown",
      "source": [
        "Decision Tree"
      ],
      "metadata": {
        "id": "KC4xzSX61Vv_"
      }
    },
    {
      "cell_type": "markdown",
      "source": [
        "Theoretical"
      ],
      "metadata": {
        "id": "UjaKA7hV1xxY"
      }
    },
    {
      "cell_type": "markdown",
      "source": [
        "1. What is a Decision Tree, and how does it work?\n",
        "   - A Decision Tree is a supervised machine learning algorithm used for both classification and regression tasks. It works by splitting the data into subsets based on feature values, forming a tree-like structure of decisions.\n",
        "\n",
        "   -  How It Works:\n",
        "  - Root Node: The process starts at the root node, which contains the entire dataset.\n",
        "\n",
        "   - Splitting: The algorithm finds the feature and threshold that best separates the data into classes or values (based on criteria like Gini Impurity, Entropy, or Mean Squared Error).\n",
        "\n",
        "   - Decision Nodes: Each split creates branches, leading to decision nodes that repeat the process on their subsets.\n",
        "\n",
        "   - Leaf Nodes: When a node can’t be split further (due to purity, max depth, or minimum samples), it becomes a leaf and outputs a prediction (class label or value).\n",
        "\n",
        "2. What are impurity measures in Decision Trees?\n",
        "   - Impurity measures in Decision Trees quantify how mixed or impure a node is — essentially, how well the data at a node is split among different classes. These measures help the tree decide where to split the data to create the most homogeneous (pure) child nodes.\n",
        "   - Common Impurity Measures:\n",
        "   - Gini Impurity (Used in CART — Classification and Regression Trees)\n",
        "   - Entropy (Used in ID3 and C4.5 algorithms)\n",
        "   - Classification Error (Less common)\n",
        "   - Variance Reduction (Used in Regression Trees)\n",
        "\n",
        "3. What is the mathematical formula for Gini Impurity?\n",
        "   - The mathematical formula for Gini Impurity is:\n",
        "   - Gini(t)=1−\n",
        "i=1\n",
        "∑\n",
        "C\n",
        "​\n",
        " p\n",
        "i\n",
        "2\n",
        "​\n",
        "\n",
        "   - Example:\n",
        "   - Suppose a node has 100 samples:\n",
        "\n",
        "60 belong to class A →\n",
        "𝑝\n",
        "𝐴\n",
        "=\n",
        "0.6\n",
        "p\n",
        "A\n",
        "​\n",
        " =0.6\n",
        "\n",
        "40 belong to class B →\n",
        "𝑝\n",
        "𝐵\n",
        "=\n",
        "0.4\n",
        "p\n",
        "B\n",
        "​\n",
        " =0.4\n",
        "      -  Then the Gini impurity is:\n",
        "\n",
        "Gini\n",
        "=\n",
        "1\n",
        "−\n",
        "(\n",
        "0.6\n",
        "2\n",
        "+\n",
        "0.4\n",
        "2\n",
        ")\n",
        "=\n",
        "1\n",
        "−\n",
        "(\n",
        "0.36\n",
        "+\n",
        "0.16\n",
        ")\n",
        "=\n",
        "1\n",
        "−\n",
        "0.52\n",
        "=\n",
        "0.48\n",
        "Gini=1−(0.6\n",
        "2\n",
        " +0.4\n",
        "2\n",
        " )=1−(0.36+0.16)=1−0.52=0.48\n",
        "\n",
        "\n",
        "4. What is the mathematical formula for Entropy?\n",
        "   - The mathematical formula for Entropy (used in decision trees like ID3 and C4.5) is:\n",
        "   - Entropy(t)=−\n",
        "i=1\n",
        "∑\n",
        "C\n",
        "​\n",
        " p\n",
        "i\n",
        "​\n",
        " log\n",
        "2\n",
        "​\n",
        " (p\n",
        "i\n",
        "​\n",
        " )\n",
        "   Example:\n",
        "   - At a node with 100 samples:\n",
        "   - 70 belong to class A →\n",
        "𝑝\n",
        "𝐴\n",
        "=0.7\n",
        "  - 30 belong to class B →\n",
        "𝑝\n",
        "𝐵\n",
        "=0.3\n",
        "\n",
        "  - Then the entropy is:\n",
        "  - Entropy=−(0.7log\n",
        "2\n",
        "​\n",
        " (0.7)+0.3log\n",
        "2\n",
        "​\n",
        " (0.3))\n",
        "=−(0.7×−0.5146+0.3×−1.737)\n",
        "=−(−0.3602−0.5211)=0.8813\n",
        "\n",
        "5. What is Information Gain, and how is it used in Decision Trees?\n",
        "   - Information Gain is a metric used in decision trees (especially in algorithms like ID3 and C4.5) to decide which feature to split on at each step of the tree-building process.\n",
        "\n",
        "   - How It’s Used in Decision Trees:\n",
        "   - For each feature, compute the Information Gain from splitting on it.\n",
        "\n",
        "   - Choose the feature with the highest Information Gain as the splitting node.\n",
        "\n",
        "   - Repeat the process recursively for each branch.\n",
        "\n",
        "6. What is the difference between Gini Impurity and Entropy?\n",
        "   - The key difference between Gini Impurity and Entropy lies in how they measure node impurity (or disorder) and how they behave when evaluating splits in a decision tree.\n",
        "\n",
        "  - Both are very similar in practice, often leading to the same splits.\n",
        "\n",
        "  - Gini is computationally simpler and tends to be preferred when speed matters.\n",
        "\n",
        "  - Entropy has a stronger theoretical foundation in information theory, and can sometimes make better splits when class probabilities are close.\n",
        "\n",
        "7. What is the mathematical explanation behind Decision Trees?\n",
        "   - The mathematical explanation behind Decision Trees revolves around recursive binary partitioning of data based on criteria that minimize impurity (for classification) or error (for regression).\n",
        "\n",
        "   - The Goal\n",
        "   - For Classification Trees\n",
        "   - For Regression Trees\n",
        "   -  Recursive Splitting\n",
        "   -  Final Tree Prediction\n",
        "\n",
        "8. What is Pre-Pruning in Decision Trees?\n",
        "   - Pre-Pruning (also called early stopping) is a technique used in decision trees to prevent overfitting by halting the tree growth early—before it becomes overly complex and captures noise in the training data.\n",
        "\n",
        "9. What is Post-Pruning in Decision Trees?\n",
        "   - Post-Pruning (also called cost-complexity pruning) is a technique used in decision trees to reduce overfitting by trimming back a fully grown tree after it has been built.\n",
        "\n",
        "10. What is the difference between Pre-Pruning and Post-Pruning?\n",
        "    - Pre-Pruning (also called early stopping) is a technique used in decision trees to prevent overfitting by halting the tree growth early—before it becomes overly complex and captures noise in the training data.\n",
        "\n",
        "    - Post-Pruning (also called cost-complexity pruning) is a technique used in decision trees to reduce overfitting by trimming back a fully grown tree after it has been built.\n",
        "\n",
        "11. What is a Decision Tree Regressor?\n",
        "    - A Decision Tree Regressor is a type of Decision Tree algorithm specifically designed for regression tasks. Unlike classification trees, which predict categorical labels, a Decision Tree Regressor predicts continuous numerical values.\n",
        "\n",
        "12. What are the advantages and disadvantages of Decision Trees?\n",
        "    - Decision Trees are a popular machine learning algorithm due to their simplicity and interpretability. However, like any method, they come with their set of advantages and disadvantages.\n",
        "\n",
        "   -  Advantages of Decision Trees:\n",
        "   - Easy to Understand and Interpret\n",
        "   - No Need for Feature Scaling\n",
        "   - Handles Both Numerical and Categorical Data\n",
        "   - Non-Linear Relationships\n",
        "\n",
        "  - Disadvantages of Decision Trees:\n",
        "  - Overfitting\n",
        "  - Instability\n",
        "  - Bias Toward Features with More Levels\n",
        "  - Greedy Approach\n",
        "  - Complex Trees\n",
        "\n",
        "13. How does a Decision Tree handle missing values?\n",
        "    - Decision Trees can handle missing values in a few ways, depending on the specific implementation and strategy used.\n",
        "    -  Surrogate Splits (Alternate Split)\n",
        "    - Imputation Before Training:\n",
        "    - Handling Missing Values at Each Node\n",
        "    - Handling Missing Values During Prediction\n",
        "\n",
        "14. How does a Decision Tree handle categorical features?\n",
        "    - A Decision Tree handles categorical features by evaluating splits based on the different categories (values) of the feature.\n",
        "    - Splitting Based on Categorical Values\n",
        "    - Splitting Criteria\n",
        "    -  Handling Categorical Features with Many Categories\n",
        "    - Example of a Split with Categorical Data\n",
        "\n",
        "15. What are some real-world applications of Decision Trees?\n",
        "    - Decision trees are a versatile and widely-used tool in machine learning and data science, with applications in a variety of fields.\n",
        "    - Medical Diagnosis\n",
        "    - Finance and Credit Scoring\n",
        "    - Customer Relationship Management (CRM)\n",
        "    - Risk Assessment in Insurance\n",
        "    - Fraud Detection\n",
        "    - Energy Consumption Prediction:\n",
        "\n",
        "\n",
        "\n",
        "     \n",
        "\n",
        "\n",
        "\n",
        "\n",
        "\n",
        "\n",
        "\n"
      ],
      "metadata": {
        "id": "Y44vJFCb18lQ"
      }
    },
    {
      "cell_type": "markdown",
      "source": [
        "PRACTICAL"
      ],
      "metadata": {
        "id": "gQX82F_E-ji8"
      }
    },
    {
      "cell_type": "markdown",
      "source": [
        "16. Write a Python program to train a Decision Tree Classifier on the Iris dataset and print the model accuracy?"
      ],
      "metadata": {
        "id": "pZ06Mujj-l0h"
      }
    },
    {
      "cell_type": "code",
      "source": [
        "# Import necessary libraries\n",
        "from sklearn.datasets import load_iris\n",
        "from sklearn.model_selection import train_test_split\n",
        "from sklearn.tree import DecisionTreeClassifier\n",
        "from sklearn.metrics import accuracy_score\n",
        "\n",
        "# Load the Iris dataset\n",
        "iris = load_iris()\n",
        "X = iris.data  # Features\n",
        "y = iris.target  # Target labels\n",
        "\n",
        "# Split the data into training and testing sets\n",
        "X_train, X_test, y_train, y_test = train_test_split(X, y, test_size=0.3, random_state=42)\n",
        "\n",
        "# Initialize the Decision Tree Classifier\n",
        "clf = DecisionTreeClassifier()\n",
        "\n",
        "# Train the model on the training data\n",
        "clf.fit(X_train, y_train)\n",
        "\n",
        "# Make predictions on the test data\n",
        "y_pred = clf.predict(X_test)\n",
        "\n",
        "# Calculate the accuracy of the model\n",
        "accuracy = accuracy_score(y_test, y_pred)\n",
        "\n",
        "# Print the model accuracy\n",
        "print(f\"Model Accuracy: {accuracy * 100:.2f}%\")\n"
      ],
      "metadata": {
        "colab": {
          "base_uri": "https://localhost:8080/"
        },
        "id": "Y6glvF0_-rsk",
        "outputId": "03c62551-5dfc-49ac-f946-0973366519a1"
      },
      "execution_count": 1,
      "outputs": [
        {
          "output_type": "stream",
          "name": "stdout",
          "text": [
            "Model Accuracy: 100.00%\n"
          ]
        }
      ]
    },
    {
      "cell_type": "markdown",
      "source": [
        "17. Write a Python program to train a Decision Tree Classifier using Gini Impurity as the criterion and print the\n",
        "feature importances?"
      ],
      "metadata": {
        "id": "IkJvpb18-0jr"
      }
    },
    {
      "cell_type": "code",
      "source": [
        "# Import necessary libraries\n",
        "from sklearn.datasets import load_iris\n",
        "from sklearn.model_selection import train_test_split\n",
        "from sklearn.tree import DecisionTreeClassifier\n",
        "import pandas as pd\n",
        "\n",
        "# Load the Iris dataset\n",
        "iris = load_iris()\n",
        "X = iris.data  # Features\n",
        "y = iris.target  # Target labels\n",
        "\n",
        "# Split the data into training and testing sets\n",
        "X_train, X_test, y_train, y_test = train_test_split(X, y, test_size=0.3, random_state=42)\n",
        "\n",
        "# Initialize the Decision Tree Classifier with Gini Impurity as criterion\n",
        "clf = DecisionTreeClassifier(criterion='gini', random_state=42)\n",
        "\n",
        "# Train the model on the training data\n",
        "clf.fit(X_train, y_train)\n",
        "\n",
        "# Get the feature importances\n",
        "feature_importances = clf.feature_importances_\n",
        "\n",
        "# Create a DataFrame to display the feature importances\n",
        "feature_names = iris.feature_names\n",
        "feature_importance_df = pd.DataFrame({\n",
        "    'Feature': feature_names,\n",
        "    'Importance': feature_importances\n",
        "})\n",
        "\n",
        "# Sort the features by importance\n",
        "feature_importance_df = feature_importance_df.sort_values(by='Importance', ascending=False)\n",
        "\n",
        "# Print the feature importances\n",
        "print(\"Feature Importances:\")\n",
        "print(feature_importance_df)\n"
      ],
      "metadata": {
        "colab": {
          "base_uri": "https://localhost:8080/"
        },
        "id": "kBuaZXg0-5Kr",
        "outputId": "ccded478-b87a-4e35-b933-78f3be06a738"
      },
      "execution_count": 2,
      "outputs": [
        {
          "output_type": "stream",
          "name": "stdout",
          "text": [
            "Feature Importances:\n",
            "             Feature  Importance\n",
            "2  petal length (cm)    0.893264\n",
            "3   petal width (cm)    0.087626\n",
            "1   sepal width (cm)    0.019110\n",
            "0  sepal length (cm)    0.000000\n"
          ]
        }
      ]
    },
    {
      "cell_type": "markdown",
      "source": [
        "18. Write a Python program to train a Decision Tree Classifier using Entropy as the splitting criterion and print the\n",
        "model accuracy?"
      ],
      "metadata": {
        "id": "3L17HVQf_E7J"
      }
    },
    {
      "cell_type": "code",
      "source": [
        "# Import necessary libraries\n",
        "from sklearn.datasets import load_iris\n",
        "from sklearn.model_selection import train_test_split\n",
        "from sklearn.tree import DecisionTreeClassifier\n",
        "from sklearn.metrics import accuracy_score\n",
        "\n",
        "# Load the Iris dataset\n",
        "iris = load_iris()\n",
        "X = iris.data  # Features\n",
        "y = iris.target  # Target labels\n",
        "\n",
        "# Split the data into training and testing sets\n",
        "X_train, X_test, y_train, y_test = train_test_split(X, y, test_size=0.3, random_state=42)\n",
        "\n",
        "# Initialize the Decision Tree Classifier with Entropy as criterion\n",
        "clf = DecisionTreeClassifier(criterion='entropy', random_state=42)\n",
        "\n",
        "# Train the model on the training data\n",
        "clf.fit(X_train, y_train)\n",
        "\n",
        "# Make predictions on the test data\n",
        "y_pred = clf.predict(X_test)\n",
        "\n",
        "# Calculate the accuracy of the model\n",
        "accuracy = accuracy_score(y_test, y_pred)\n",
        "\n",
        "# Print the model accuracy\n",
        "print(f\"Model Accuracy: {accuracy * 100:.2f}%\")\n"
      ],
      "metadata": {
        "colab": {
          "base_uri": "https://localhost:8080/"
        },
        "id": "GLurDdOk_I12",
        "outputId": "62f5fdb6-09b3-44cc-ea1a-c07a1bf44615"
      },
      "execution_count": 3,
      "outputs": [
        {
          "output_type": "stream",
          "name": "stdout",
          "text": [
            "Model Accuracy: 97.78%\n"
          ]
        }
      ]
    },
    {
      "cell_type": "markdown",
      "source": [
        "19. Write a Python program to train a Decision Tree Regressor on a housing dataset and evaluate using Mean\n",
        "Squared Error (MSE)?"
      ],
      "metadata": {
        "id": "7T43eluE_PD-"
      }
    },
    {
      "cell_type": "code",
      "source": [
        "# Import necessary libraries\n",
        "from sklearn.datasets import fetch_california_housing\n",
        "from sklearn.model_selection import train_test_split\n",
        "from sklearn.tree import DecisionTreeRegressor\n",
        "from sklearn.metrics import mean_squared_error\n",
        "\n",
        "# Load the California housing dataset\n",
        "data = fetch_california_housing()\n",
        "X = data.data  # Features\n",
        "y = data.target  # Target variable (housing prices)\n",
        "\n",
        "# Split the data into training and testing sets\n",
        "X_train, X_test, y_train, y_test = train_test_split(X, y, test_size=0.3, random_state=42)\n",
        "\n",
        "# Initialize the Decision Tree Regressor\n",
        "regressor = DecisionTreeRegressor(random_state=42)\n",
        "\n",
        "# Train the model on the training data\n",
        "regressor.fit(X_train, y_train)\n",
        "\n",
        "# Make predictions on the test data\n",
        "y_pred = regressor.predict(X_test)\n",
        "\n",
        "# Calculate the Mean Squared Error (MSE)\n",
        "mse = mean_squared_error(y_test, y_pred)\n",
        "\n",
        "# Print the MSE\n",
        "print(f\"Mean Squared Error: {mse:.2f}\")\n"
      ],
      "metadata": {
        "colab": {
          "base_uri": "https://localhost:8080/"
        },
        "id": "vbyDMlpo_S9G",
        "outputId": "71045af7-dbdb-4f4a-b796-aa9cb219704a"
      },
      "execution_count": 4,
      "outputs": [
        {
          "output_type": "stream",
          "name": "stdout",
          "text": [
            "Mean Squared Error: 0.53\n"
          ]
        }
      ]
    },
    {
      "cell_type": "markdown",
      "source": [
        "20. Write a Python program to train a Decision Tree Classifier and visualize the tree using graphviz?"
      ],
      "metadata": {
        "id": "U1T9SIvj_jlo"
      }
    },
    {
      "cell_type": "code",
      "source": [
        "# Import necessary libraries\n",
        "from sklearn.datasets import load_iris\n",
        "from sklearn.model_selection import train_test_split\n",
        "from sklearn.tree import DecisionTreeClassifier, export_graphviz\n",
        "import graphviz\n",
        "\n",
        "# Load the Iris dataset\n",
        "iris = load_iris()\n",
        "X = iris.data  # Features\n",
        "y = iris.target  # Target labels\n",
        "\n",
        "# Split the data into training and testing sets\n",
        "X_train, X_test, y_train, y_test = train_test_split(X, y, test_size=0.3, random_state=42)\n",
        "\n",
        "# Initialize the Decision Tree Classifier\n",
        "clf = DecisionTreeClassifier(random_state=42)\n",
        "\n",
        "# Train the model on the training data\n",
        "clf.fit(X_train, y_train)\n",
        "\n",
        "# Visualize the decision tree\n",
        "dot_data = export_graphviz(\n",
        "    clf, out_file=None,\n",
        "    feature_names=iris.feature_names,\n",
        "    class_names=iris.target_names,\n",
        "    filled=True, rounded=True,\n",
        "    special_characters=True\n",
        ")\n",
        "\n",
        "# Render the tree using graphviz\n",
        "graph = graphviz.Source(dot_data)\n",
        "graph.render(\"decision_tree\")  # Save the tree to a file named 'decision_tree.pdf'\n",
        "\n",
        "# Display the tree\n",
        "graph.view()\n"
      ],
      "metadata": {
        "colab": {
          "base_uri": "https://localhost:8080/",
          "height": 36
        },
        "id": "KteIO7Ru_mub",
        "outputId": "05803e8a-47b9-45f3-f345-8e104ef516a6"
      },
      "execution_count": 5,
      "outputs": [
        {
          "output_type": "execute_result",
          "data": {
            "text/plain": [
              "'decision_tree.pdf'"
            ],
            "application/vnd.google.colaboratory.intrinsic+json": {
              "type": "string"
            }
          },
          "metadata": {},
          "execution_count": 5
        }
      ]
    },
    {
      "cell_type": "markdown",
      "source": [
        "21. Write a Python program to train a Decision Tree Classifier with a maximum depth of 3 and compare its\n",
        "accuracy with a fully grown tree?"
      ],
      "metadata": {
        "id": "vM31jN_Y_uPS"
      }
    },
    {
      "cell_type": "code",
      "source": [
        "# Import necessary libraries\n",
        "from sklearn.datasets import load_iris\n",
        "from sklearn.model_selection import train_test_split\n",
        "from sklearn.tree import DecisionTreeClassifier\n",
        "from sklearn.metrics import accuracy_score\n",
        "\n",
        "# Load the Iris dataset\n",
        "iris = load_iris()\n",
        "X = iris.data  # Features\n",
        "y = iris.target  # Target labels\n",
        "\n",
        "# Split the data into training and testing sets\n",
        "X_train, X_test, y_train, y_test = train_test_split(X, y, test_size=0.3, random_state=42)\n",
        "\n",
        "# Initialize the Decision Tree Classifier with a maximum depth of 3\n",
        "clf_max_depth_3 = DecisionTreeClassifier(max_depth=3, random_state=42)\n",
        "\n",
        "# Train the model with a maximum depth of 3\n",
        "clf_max_depth_3.fit(X_train, y_train)\n",
        "\n",
        "# Make predictions and calculate accuracy for the model with max depth 3\n",
        "y_pred_max_depth_3 = clf_max_depth_3.predict(X_test)\n",
        "accuracy_max_depth_3 = accuracy_score(y_test, y_pred_max_depth_3)\n",
        "\n",
        "# Initialize the Decision Tree Classifier without limiting the depth (fully grown tree)\n",
        "clf_full_tree = DecisionTreeClassifier(random_state=42)\n",
        "\n",
        "# Train the model without limiting the depth\n",
        "clf_full_tree.fit(X_train, y_train)\n",
        "\n",
        "# Make predictions and calculate accuracy for the fully grown tree\n",
        "y_pred_full_tree = clf_full_tree.predict(X_test)\n",
        "accuracy_full_tree = accuracy_score(y_test, y_pred_full_tree)\n",
        "\n",
        "# Print the accuracies\n",
        "print(f\"Accuracy of Decision Tree with max depth 3: {accuracy_max_depth_3 * 100:.2f}%\")\n",
        "print(f\"Accuracy of fully grown Decision Tree: {accuracy_full_tree * 100:.2f}%\")\n"
      ],
      "metadata": {
        "colab": {
          "base_uri": "https://localhost:8080/"
        },
        "id": "aTdHDIh8_015",
        "outputId": "c652480b-1a35-4984-ee97-ef6200ecbdeb"
      },
      "execution_count": 6,
      "outputs": [
        {
          "output_type": "stream",
          "name": "stdout",
          "text": [
            "Accuracy of Decision Tree with max depth 3: 100.00%\n",
            "Accuracy of fully grown Decision Tree: 100.00%\n"
          ]
        }
      ]
    },
    {
      "cell_type": "markdown",
      "source": [
        "22. Write a Python program to train a Decision Tree Classifier using min_samples_split=5 and compare its\n",
        "accuracy with a default tree?"
      ],
      "metadata": {
        "id": "pv5hQadz_9-i"
      }
    },
    {
      "cell_type": "code",
      "source": [
        "# Import necessary libraries\n",
        "from sklearn.datasets import load_iris\n",
        "from sklearn.model_selection import train_test_split\n",
        "from sklearn.tree import DecisionTreeClassifier\n",
        "from sklearn.metrics import accuracy_score\n",
        "\n",
        "# Load the Iris dataset\n",
        "iris = load_iris()\n",
        "X = iris.data  # Features\n",
        "y = iris.target  # Target labels\n",
        "\n",
        "# Split the data into training and testing sets\n",
        "X_train, X_test, y_train, y_test = train_test_split(X, y, test_size=0.3, random_state=42)\n",
        "\n",
        "# Initialize the Decision Tree Classifier with min_samples_split=5\n",
        "clf_min_samples_split_5 = DecisionTreeClassifier(min_samples_split=5, random_state=42)\n",
        "\n",
        "# Train the model with min_samples_split=5\n",
        "clf_min_samples_split_5.fit(X_train, y_train)\n",
        "\n",
        "# Make predictions and calculate accuracy for the model with min_samples_split=5\n",
        "y_pred_min_samples_split_5 = clf_min_samples_split_5.predict(X_test)\n",
        "accuracy_min_samples_split_5 = accuracy_score(y_test, y_pred_min_samples_split_5)\n",
        "\n",
        "# Initialize the default Decision Tree Classifier (min_samples_split=2)\n",
        "clf_default = DecisionTreeClassifier(random_state=42)\n",
        "\n",
        "# Train the model with the default settings\n",
        "clf_default.fit(X_train, y_train)\n",
        "\n",
        "# Make predictions and calculate accuracy for the default tree\n",
        "y_pred_default = clf_default.predict(X_test)\n",
        "accuracy_default = accuracy_score(y_test, y_pred_default)\n",
        "\n",
        "# Print the accuracies\n",
        "print(f\"Accuracy of Decision Tree with min_samples_split=5: {accuracy_min_samples_split_5 * 100:.2f}%\")\n",
        "print(f\"Accuracy of default Decision Tree: {accuracy_default * 100:.2f}%\")\n"
      ],
      "metadata": {
        "colab": {
          "base_uri": "https://localhost:8080/"
        },
        "id": "G4XyEbAyAB1-",
        "outputId": "aa58df75-d442-4ce3-d8c1-cd817b6621ad"
      },
      "execution_count": 7,
      "outputs": [
        {
          "output_type": "stream",
          "name": "stdout",
          "text": [
            "Accuracy of Decision Tree with min_samples_split=5: 100.00%\n",
            "Accuracy of default Decision Tree: 100.00%\n"
          ]
        }
      ]
    },
    {
      "cell_type": "markdown",
      "source": [
        "23. Write a Python program to apply feature scaling before training a Decision Tree Classifier and compare its\n",
        "accuracy with unscaled data?"
      ],
      "metadata": {
        "id": "OfU0uiPWALge"
      }
    },
    {
      "cell_type": "code",
      "source": [
        "# Import necessary libraries\n",
        "from sklearn.datasets import load_iris\n",
        "from sklearn.model_selection import train_test_split\n",
        "from sklearn.tree import DecisionTreeClassifier\n",
        "from sklearn.metrics import accuracy_score\n",
        "from sklearn.preprocessing import StandardScaler\n",
        "\n",
        "# Load the Iris dataset\n",
        "iris = load_iris()\n",
        "X = iris.data  # Features\n",
        "y = iris.target  # Target labels\n",
        "\n",
        "# Split the data into training and testing sets\n",
        "X_train, X_test, y_train, y_test = train_test_split(X, y, test_size=0.3, random_state=42)\n",
        "\n",
        "# --- Decision Tree without scaling ---\n",
        "# Initialize the Decision Tree Classifier\n",
        "clf_unscaled = DecisionTreeClassifier(random_state=42)\n",
        "\n",
        "# Train the model on unscaled data\n",
        "clf_unscaled.fit(X_train, y_train)\n",
        "\n",
        "# Make predictions and calculate accuracy for the unscaled model\n",
        "y_pred_unscaled = clf_unscaled.predict(X_test)\n",
        "accuracy_unscaled = accuracy_score(y_test, y_pred_unscaled)\n",
        "\n",
        "# --- Decision Tree with scaling ---\n",
        "# Initialize the StandardScaler for feature scaling\n",
        "scaler = StandardScaler()\n",
        "\n",
        "# Fit and transform the training data with scaling\n",
        "X_train_scaled = scaler.fit_transform(X_train)\n",
        "\n",
        "# Transform the test data with the same scaler\n",
        "X_test_scaled = scaler.transform(X_test)\n",
        "\n",
        "# Initialize the Decision Tree Classifier\n",
        "clf_scaled = DecisionTreeClassifier(random_state=42)\n",
        "\n",
        "# Train the model on scaled data\n",
        "clf_scaled.fit(X_train_scaled, y_train)\n",
        "\n",
        "# Make predictions and calculate accuracy for the scaled model\n",
        "y_pred_scaled = clf_scaled.predict(X_test_scaled)\n",
        "accuracy_scaled = accuracy_score(y_test, y_pred_scaled)\n",
        "\n",
        "# Print the accuracies\n",
        "print(f\"Accuracy of Decision Tree without scaling: {accuracy_unscaled * 100:.2f}%\")\n",
        "print(f\"Accuracy of Decision Tree with scaling: {accuracy_scaled * 100:.2f}%\")\n"
      ],
      "metadata": {
        "colab": {
          "base_uri": "https://localhost:8080/"
        },
        "id": "SPA8r80XARlb",
        "outputId": "b4e8f741-260d-47bc-db7a-6a3dfa063fc2"
      },
      "execution_count": 8,
      "outputs": [
        {
          "output_type": "stream",
          "name": "stdout",
          "text": [
            "Accuracy of Decision Tree without scaling: 100.00%\n",
            "Accuracy of Decision Tree with scaling: 100.00%\n"
          ]
        }
      ]
    },
    {
      "cell_type": "markdown",
      "source": [
        "24. Write a Python program to train a Decision Tree Classifier using One-vs-Rest (OvR) strategy for multiclass\n",
        "classification?"
      ],
      "metadata": {
        "id": "-PaMqWsoAbr1"
      }
    },
    {
      "cell_type": "code",
      "source": [
        "# Import necessary libraries\n",
        "from sklearn.datasets import load_iris\n",
        "from sklearn.model_selection import train_test_split\n",
        "from sklearn.tree import DecisionTreeClassifier\n",
        "from sklearn.multiclass import OneVsRestClassifier\n",
        "from sklearn.metrics import accuracy_score\n",
        "\n",
        "# Load the Iris dataset\n",
        "iris = load_iris()\n",
        "X = iris.data  # Features\n",
        "y = iris.target  # Target labels (multiclass)\n",
        "\n",
        "# Split the data into training and testing sets\n",
        "X_train, X_test, y_train, y_test = train_test_split(X, y, test_size=0.3, random_state=42)\n",
        "\n",
        "# Initialize the base Decision Tree Classifier\n",
        "dt_classifier = DecisionTreeClassifier(random_state=42)\n",
        "\n",
        "# Use OneVsRest strategy to train the model\n",
        "ovr_classifier = OneVsRestClassifier(dt_classifier)\n",
        "\n",
        "# Train the OvR model\n",
        "ovr_classifier.fit(X_train, y_train)\n",
        "\n",
        "# Make predictions on the test set\n",
        "y_pred = ovr_classifier.predict(X_test)\n",
        "\n",
        "# Calculate accuracy\n",
        "accuracy = accuracy_score(y_test, y_pred)\n",
        "\n",
        "# Print the accuracy\n",
        "print(f\"Accuracy of Decision Tree Classifier using One-vs-Rest strategy: {accuracy * 100:.2f}%\")\n"
      ],
      "metadata": {
        "colab": {
          "base_uri": "https://localhost:8080/"
        },
        "id": "b0SZHbf3AgiF",
        "outputId": "274aa069-66cb-4b3d-94e6-cf5caa1dcc3c"
      },
      "execution_count": 9,
      "outputs": [
        {
          "output_type": "stream",
          "name": "stdout",
          "text": [
            "Accuracy of Decision Tree Classifier using One-vs-Rest strategy: 100.00%\n"
          ]
        }
      ]
    },
    {
      "cell_type": "markdown",
      "source": [
        "25. Write a Python program to train a Decision Tree Classifier and display the feature importance scores?\n"
      ],
      "metadata": {
        "id": "BbdKbOOUApFB"
      }
    },
    {
      "cell_type": "code",
      "source": [
        "# Import necessary libraries\n",
        "from sklearn.datasets import load_iris\n",
        "from sklearn.model_selection import train_test_split\n",
        "from sklearn.tree import DecisionTreeClassifier\n",
        "import pandas as pd\n",
        "\n",
        "# Load the Iris dataset\n",
        "iris = load_iris()\n",
        "X = iris.data  # Features\n",
        "y = iris.target  # Target labels\n",
        "\n",
        "# Split the data into training and testing sets\n",
        "X_train, X_test, y_train, y_test = train_test_split(X, y, test_size=0.3, random_state=42)\n",
        "\n",
        "# Initialize the Decision Tree Classifier\n",
        "clf = DecisionTreeClassifier(random_state=42)\n",
        "\n",
        "# Train the model on the training data\n",
        "clf.fit(X_train, y_train)\n",
        "\n",
        "# Get the feature importance scores\n",
        "feature_importances = clf.feature_importances_\n",
        "\n",
        "# Create a DataFrame to display feature names with their importance scores\n",
        "feature_names = iris.feature_names\n",
        "importance_df = pd.DataFrame({\n",
        "    'Feature': feature_names,\n",
        "    'Importance': feature_importances\n",
        "})\n",
        "\n",
        "# Sort the features by importance score\n",
        "importance_df = importance_df.sort_values(by='Importance', ascending=False)\n",
        "\n",
        "# Display the feature importance scores\n",
        "print(importance_df)\n"
      ],
      "metadata": {
        "colab": {
          "base_uri": "https://localhost:8080/"
        },
        "id": "0SJRz9sMAucw",
        "outputId": "4f239dab-f742-4e45-f109-764fbfa3218a"
      },
      "execution_count": 10,
      "outputs": [
        {
          "output_type": "stream",
          "name": "stdout",
          "text": [
            "             Feature  Importance\n",
            "2  petal length (cm)    0.893264\n",
            "3   petal width (cm)    0.087626\n",
            "1   sepal width (cm)    0.019110\n",
            "0  sepal length (cm)    0.000000\n"
          ]
        }
      ]
    },
    {
      "cell_type": "markdown",
      "source": [
        "26. Write a Python program to train a Decision Tree Regressor with max_depth=5 and compare its performance\n",
        "with an unrestricted tree?"
      ],
      "metadata": {
        "id": "1LZPjfkDA3xu"
      }
    },
    {
      "cell_type": "code",
      "source": [
        "# Import necessary libraries\n",
        "from sklearn.datasets import fetch_california_housing\n",
        "from sklearn.model_selection import train_test_split\n",
        "from sklearn.tree import DecisionTreeRegressor\n",
        "from sklearn.metrics import mean_squared_error\n",
        "\n",
        "# Load the California Housing dataset\n",
        "california_housing = fetch_california_housing()\n",
        "X = california_housing.data  # Features\n",
        "y = california_housing.target  # Target values (house prices)\n",
        "\n",
        "# Split the data into training and testing sets\n",
        "X_train, X_test, y_train, y_test = train_test_split(X, y, test_size=0.3, random_state=42)\n",
        "\n",
        "# --- Train the Decision Tree Regressor with max_depth=5 ---\n",
        "# Initialize the Decision Tree Regressor with max_depth=5\n",
        "dt_regressor_max_depth_5 = DecisionTreeRegressor(max_depth=5, random_state=42)\n",
        "\n",
        "# Train the model on the training data\n",
        "dt_regressor_max_depth_5.fit(X_train, y_train)\n",
        "\n",
        "# Make predictions on the test set\n",
        "y_pred_max_depth_5 = dt_regressor_max_depth_5.predict(X_test)\n",
        "\n",
        "# Calculate Mean Squared Error (MSE) for the model with max_depth=5\n",
        "mse_max_depth_5 = mean_squared_error(y_test, y_pred_max_depth_5)\n",
        "\n",
        "# --- Train the unrestricted (fully grown) Decision Tree Regressor ---\n",
        "# Initialize the Decision Tree Regressor without limiting the depth\n",
        "dt_regressor_full_tree = DecisionTreeRegressor(random_state=42)\n",
        "\n",
        "# Train the model on the training data\n",
        "dt_regressor_full_tree.fit(X_train, y_train)\n",
        "\n",
        "# Make predictions on the test set\n",
        "y_pred_full_tree = dt_regressor_full_tree.predict(X_test)\n",
        "\n",
        "# Calculate Mean Squared Error (MSE) for the fully grown tree\n",
        "mse_full_tree = mean_squared_error(y_test, y_pred_full_tree)\n",
        "\n",
        "# Print the MSE values for comparison\n",
        "print(f\"Mean Squared Error for Decision Tree Regressor with max_depth=5: {mse_max_depth_5:.2f}\")\n",
        "print(f\"Mean Squared Error for fully grown Decision Tree Regressor: {mse_full_tree:.2f}\")\n"
      ],
      "metadata": {
        "colab": {
          "base_uri": "https://localhost:8080/"
        },
        "id": "VxSJVh2uA8Vg",
        "outputId": "86c74fe5-3944-40ad-b987-bda92a9f00a6"
      },
      "execution_count": 11,
      "outputs": [
        {
          "output_type": "stream",
          "name": "stdout",
          "text": [
            "Mean Squared Error for Decision Tree Regressor with max_depth=5: 0.52\n",
            "Mean Squared Error for fully grown Decision Tree Regressor: 0.53\n"
          ]
        }
      ]
    },
    {
      "cell_type": "markdown",
      "source": [
        "27. Write a Python program to train a Decision Tree Classifier, apply Cost Complexity Pruning (CCP), and\n",
        "visualize its effect on accuracy?"
      ],
      "metadata": {
        "id": "Aw8W87pkBGoF"
      }
    },
    {
      "cell_type": "code",
      "source": [
        "# Import necessary libraries\n",
        "from sklearn.datasets import load_iris\n",
        "from sklearn.model_selection import train_test_split\n",
        "from sklearn.tree import DecisionTreeClassifier, plot_tree\n",
        "from sklearn.metrics import accuracy_score\n",
        "import matplotlib.pyplot as plt\n",
        "import numpy as np\n",
        "\n",
        "# Load the Iris dataset\n",
        "iris = load_iris()\n",
        "X = iris.data  # Features\n",
        "y = iris.target  # Target labels\n",
        "\n",
        "# Split the data into training and testing sets\n",
        "X_train, X_test, y_train, y_test = train_test_split(X, y, test_size=0.3, random_state=42)\n",
        "\n",
        "# --- Train the Decision Tree Classifier without pruning ---\n",
        "clf_unpruned = DecisionTreeClassifier(random_state=42)\n",
        "clf_unpruned.fit(X_train, y_train)\n",
        "\n",
        "# Make predictions on the test set for the unpruned tree\n",
        "y_pred_unpruned = clf_unpruned.predict(X_test)\n",
        "\n",
        "# Calculate accuracy for the unpruned tree\n",
        "accuracy_unpruned = accuracy_score(y_test, y_pred_unpruned)\n",
        "\n",
        "# --- Apply Cost Complexity Pruning (CCP) ---\n",
        "# Get the effective alphas and total leaf impurities for pruning\n",
        "path = clf_unpruned.cost_complexity_pruning_path(X_train, y_train)\n",
        "\n",
        "# Extract the alpha values (used for pruning) and the corresponding impurities\n",
        "ccp_alphas = path.ccp_alphas\n",
        "impurities = path.impurities\n",
        "\n",
        "# List to store the accuracy for each pruning alpha\n",
        "accuracies = []\n",
        "\n",
        "# Train and test the model for each alpha value (different pruning levels)\n",
        "for ccp_alpha in ccp_alphas:\n",
        "    clf_pruned = DecisionTreeClassifier(random_state=42, ccp_alpha=ccp_alpha)\n",
        "    clf_pruned.fit(X_train, y_train)\n",
        "\n",
        "    # Make predictions on the test set for the pruned tree\n",
        "    y_pred_pruned = clf_pruned.predict(X_test)\n",
        "\n",
        "    # Calculate accuracy for the pruned tree\n",
        "    accuracy_pruned = accuracy_score(y_test, y_pred_pruned)\n",
        "    accuracies.append(accuracy_pruned)\n",
        "\n",
        "# --- Plot the accuracy vs alpha for different levels of pruning ---\n",
        "plt.figure(figsize=(10, 6))\n",
        "plt.plot(ccp_alphas, accuracies, marker='o', label='Accuracy vs CCP Alpha')\n",
        "plt.axvline(ccp_alphas[np.argmax(accuracies)], linestyle='--', color='red', label='Best alpha')\n",
        "plt.xlabel(\"Alpha (ccp_alpha)\")\n",
        "plt.ylabel(\"Accuracy\")\n",
        "plt.title(\"Effect of Cost Complexity Pruning on Accuracy\")\n",
        "plt.legend()\n",
        "plt.show()\n",
        "\n",
        "# Print the accuracy for the unpruned tree and the best pruned tree\n",
        "print(f\"Accuracy of unpruned tree: {accuracy_unpruned * 100:.2f}%\")\n",
        "print(f\"Best accuracy after pruning: {max(accuracies) * 100:.2f}%\")\n"
      ],
      "metadata": {
        "colab": {
          "base_uri": "https://localhost:8080/",
          "height": 600
        },
        "id": "N5nBgD7RBQD6",
        "outputId": "a1e1b768-95ab-406a-b0dd-24216263420d"
      },
      "execution_count": 12,
      "outputs": [
        {
          "output_type": "display_data",
          "data": {
            "text/plain": [
              "<Figure size 1000x600 with 1 Axes>"
            ],
            "image/png": "[encoded data removed]"
          },
          "metadata": {}
        },
        {
          "output_type": "stream",
          "name": "stdout",
          "text": [
            "Accuracy of unpruned tree: 100.00%\n",
            "Best accuracy after pruning: 100.00%\n"
          ]
        }
      ]
    },
    {
      "cell_type": "markdown",
      "source": [
        "28. Write a Python program to train a Decision Tree Classifier and evaluate its performance using Precision,\n",
        "Recall, and F1-Score?"
      ],
      "metadata": {
        "id": "yzPwHpqJBdUE"
      }
    },
    {
      "cell_type": "code",
      "source": [
        "# Import necessary libraries\n",
        "from sklearn.datasets import load_iris\n",
        "from sklearn.model_selection import train_test_split\n",
        "from sklearn.tree import DecisionTreeClassifier\n",
        "from sklearn.metrics import precision_score, recall_score, f1_score, classification_report\n",
        "\n",
        "# Load the Iris dataset\n",
        "iris = load_iris()\n",
        "X = iris.data  # Features\n",
        "y = iris.target  # Target labels\n",
        "\n",
        "# Split the data into training and testing sets\n",
        "X_train, X_test, y_train, y_test = train_test_split(X, y, test_size=0.3, random_state=42)\n",
        "\n",
        "# Initialize the Decision Tree Classifier\n",
        "clf = DecisionTreeClassifier(random_state=42)\n",
        "\n",
        "# Train the classifier on the training data\n",
        "clf.fit(X_train, y_train)\n",
        "\n",
        "# Make predictions on the test set\n",
        "y_pred = clf.predict(X_test)\n",
        "\n",
        "# Calculate Precision, Recall, and F1-Score for each class\n",
        "precision = precision_score(y_test, y_pred, average=None)  # Precision for each class\n",
        "recall = recall_score(y_test, y_pred, average=None)  # Recall for each class\n",
        "f1 = f1_score(y_test, y_pred, average=None)  # F1-Score for each class\n",
        "\n",
        "# Print the Precision, Recall, and F1-Score for each class\n",
        "print(\"Precision for each class:\", precision)\n",
        "print(\"Recall for each class:\", recall)\n",
        "print(\"F1-Score for each class:\", f1)\n",
        "\n",
        "# Alternatively, print a full classification report\n",
        "print(\"\\nClassification Report:\")\n",
        "print(classification_report(y_test, y_pred, target_names=iris.target_names))\n"
      ],
      "metadata": {
        "colab": {
          "base_uri": "https://localhost:8080/"
        },
        "id": "DYJrJID8BhJY",
        "outputId": "71069b35-a497-4c5a-be40-2e84c8cb02ec"
      },
      "execution_count": 13,
      "outputs": [
        {
          "output_type": "stream",
          "name": "stdout",
          "text": [
            "Precision for each class: [1. 1. 1.]\n",
            "Recall for each class: [1. 1. 1.]\n",
            "F1-Score for each class: [1. 1. 1.]\n",
            "\n",
            "Classification Report:\n",
            "              precision    recall  f1-score   support\n",
            "\n",
            "      setosa       1.00      1.00      1.00        19\n",
            "  versicolor       1.00      1.00      1.00        13\n",
            "   virginica       1.00      1.00      1.00        13\n",
            "\n",
            "    accuracy                           1.00        45\n",
            "   macro avg       1.00      1.00      1.00        45\n",
            "weighted avg       1.00      1.00      1.00        45\n",
            "\n"
          ]
        }
      ]
    },
    {
      "cell_type": "markdown",
      "source": [
        "29. Write a Python program to train a Decision Tree Classifier and visualize the confusion matrix using seaborn?"
      ],
      "metadata": {
        "id": "LqoPehxgBsGp"
      }
    },
    {
      "cell_type": "code",
      "source": [
        "# Import necessary libraries\n",
        "from sklearn.datasets import load_iris\n",
        "from sklearn.model_selection import train_test_split\n",
        "from sklearn.tree import DecisionTreeClassifier\n",
        "from sklearn.metrics import confusion_matrix\n",
        "import seaborn as sns\n",
        "import matplotlib.pyplot as plt\n",
        "\n",
        "# Load the Iris dataset\n",
        "iris = load_iris()\n",
        "X = iris.data  # Features\n",
        "y = iris.target  # Target labels\n",
        "\n",
        "# Split the data into training and testing sets\n",
        "X_train, X_test, y_train, y_test = train_test_split(X, y, test_size=0.3, random_state=42)\n",
        "\n",
        "# Initialize the Decision Tree Classifier\n",
        "clf = DecisionTreeClassifier(random_state=42)\n",
        "\n",
        "# Train the classifier on the training data\n",
        "clf.fit(X_train, y_train)\n",
        "\n",
        "# Make predictions on the test set\n",
        "y_pred = clf.predict(X_test)\n",
        "\n",
        "# Generate the confusion matrix\n",
        "cm = confusion_matrix(y_test, y_pred)\n",
        "\n",
        "# Visualize the confusion matrix using seaborn\n",
        "plt.figure(figsize=(8, 6))\n",
        "sns.heatmap(cm, annot=True, fmt=\"d\", cmap=\"Blues\", xticklabels=iris.target_names, yticklabels=iris.target_names)\n",
        "plt.title(\"Confusion Matrix for Decision Tree Classifier\")\n",
        "plt.xlabel(\"Predicted Label\")\n",
        "plt.ylabel(\"True Label\")\n",
        "plt.show()\n"
      ],
      "metadata": {
        "colab": {
          "base_uri": "https://localhost:8080/",
          "height": 564
        },
        "id": "Asex38d2ByEK",
        "outputId": "13f838d1-6d7e-4c84-e6f0-c8bdfef67bc7"
      },
      "execution_count": 14,
      "outputs": [
        {
          "output_type": "display_data",
          "data": {
            "text/plain": [
              "<Figure size 800x600 with 2 Axes>"
            ],
            "image/png": "[encoded data removed]"
          },
          "metadata": {}
        }
      ]
    },
    {
      "cell_type": "markdown",
      "source": [
        "30. Write a Python program to train a Decision Tree Classifier and use GridSearchCV to find the optimal values\n",
        "for max_depth and min_samples_split?"
      ],
      "metadata": {
        "id": "WVeDlzI7B7d8"
      }
    },
    {
      "cell_type": "code",
      "source": [
        "# Import necessary libraries\n",
        "from sklearn.datasets import load_iris\n",
        "from sklearn.model_selection import train_test_split\n",
        "from sklearn.tree import DecisionTreeClassifier\n",
        "from sklearn.model_selection import GridSearchCV\n",
        "from sklearn.metrics import accuracy_score\n",
        "\n",
        "# Load the Iris dataset\n",
        "iris = load_iris()\n",
        "X = iris.data  # Features\n",
        "y = iris.target  # Target labels\n",
        "\n",
        "# Split the data into training and testing sets\n",
        "X_train, X_test, y_train, y_test = train_test_split(X, y, test_size=0.3, random_state=42)\n",
        "\n",
        "# Initialize the Decision Tree Classifier\n",
        "dt_classifier = DecisionTreeClassifier(random_state=42)\n",
        "\n",
        "# Define the parameter grid for GridSearchCV\n",
        "param_grid = {\n",
        "    'max_depth': [3, 5, 7, 10, None],  # Various depths\n",
        "    'min_samples_split': [2, 5, 10]  # Various minimum samples required to split an internal node\n",
        "}\n",
        "\n",
        "# Initialize GridSearchCV with 5-fold cross-validation\n",
        "grid_search = GridSearchCV(estimator=dt_classifier, param_grid=param_grid, cv=5, scoring='accuracy')\n",
        "\n",
        "# Perform the grid search on the training data\n",
        "grid_search.fit(X_train, y_train)\n",
        "\n",
        "# Get the best parameters from the grid search\n",
        "best_params = grid_search.best_params_\n",
        "\n",
        "# Print the best parameters\n",
        "print(f\"Best parameters found: {best_params}\")\n",
        "\n",
        "# Train the model with the best parameters\n",
        "best_model = grid_search.best_estimator_\n",
        "\n",
        "# Make predictions using the best model\n",
        "y_pred = best_model.predict(X_test)\n",
        "\n",
        "# Evaluate the model's accuracy on the test set\n",
        "accuracy = accuracy_score(y_test, y_pred)\n",
        "\n",
        "# Print the accuracy of the model\n",
        "print(f\"Accuracy of the best model on the test set: {accuracy * 100:.2f}%\")\n"
      ],
      "metadata": {
        "colab": {
          "base_uri": "https://localhost:8080/"
        },
        "id": "_aD1q7c8CBkU",
        "outputId": "c6ef1c8d-bd28-4840-bf83-a1487f5bfae7"
      },
      "execution_count": 15,
      "outputs": [
        {
          "output_type": "stream",
          "name": "stdout",
          "text": [
            "Best parameters found: {'max_depth': 5, 'min_samples_split': 10}\n",
            "Accuracy of the best model on the test set: 100.00%\n"
          ]
        }
      ]
    },
    {
      "cell_type": "markdown",
      "source": [],
      "metadata": {
        "id": "qK_C6Uxp13e9"
      }
    }
  ]
}